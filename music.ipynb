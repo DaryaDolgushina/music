{
 "cells": [
  {
   "cell_type": "code",
   "execution_count": 9,
   "metadata": {},
   "outputs": [
    {
     "data": {
      "image/png": "[encoded data removed]",
      "text/plain": [
       "<Figure size 432x288 with 1 Axes>"
      ]
     },
     "metadata": {
      "needs_background": "light"
     },
     "output_type": "display_data"
    }
   ],
   "source": [
    "import sys\n",
    "import numpy as np\n",
    "import matplotlib.pyplot as plt\n",
    "import sounddevice as sd\n",
    "duration = 0.5 \n",
    "amplitude = 0.3  \n",
    "frequency = 1500 \n",
    "fs = 60000\n",
    "fs1 = 80000\n",
    "timeSamples = np.arange(np.ceil(duration * fs)) / fs\n",
    "timeSamples1 = np.arange(np.ceil(duration * fs1)) / fs1\n",
    "signal = amplitude * np.sin(2 * np.pi * 261 * timeSamples) \n",
    "signal2 = amplitude * np.sin(2 * np.pi * 293 * timeSamples) \n",
    "signal3 = amplitude * np.sin(2 * np.pi * 329 * timeSamples1) \n",
    "signal4 = amplitude * np.sin(2 * np.pi * 349 * timeSamples) \n",
    "signal5 = amplitude * np.sin(2 * np.pi * 392 * timeSamples1) \n",
    "signal6 = amplitude * np.sin(2 * np.pi * 440 * timeSamples) \n",
    "signal7 = amplitude * np.sin(2 * np.pi * 493 * timeSamples) \n",
    "plt.title(\"sine tone\")\n",
    "plt.xlabel(\"time / milliseconds\")\n",
    "sum = []\n",
    "sum = np.concatenate((signal4, signal5, signal6, signal4, signal6, signal6, signal5, signal4, signal6,  signal, signal3, signal6, signal7, signal6, signal7, signal7, signal6, signal5, signal4), axis=0, out=None, dtype=None, casting=\"same_kind\")\n",
    "sd.play(sum, fs, None, 1)"
   ]
  }
 ],
 "metadata": {
  "interpreter": {
   "hash": "570885ef947762e696c52212a52f9e91aea3809ba67ce106e2f106db7fa95144"
  },
  "kernelspec": {
   "display_name": "Python 3.9.12 ('base')",
   "language": "python",
   "name": "python3"
  },
  "language_info": {
   "codemirror_mode": {
    "name": "ipython",
    "version": 3
   },
   "file_extension": ".py",
   "mimetype": "text/x-python",
   "name": "python",
   "nbconvert_exporter": "python",
   "pygments_lexer": "ipython3",
   "version": "3.9.12"
  },
  "orig_nbformat": 4
 },
 "nbformat": 4,
 "nbformat_minor": 2
}
